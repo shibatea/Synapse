{
    "metadata": {
        "kernelspec": {
            "name": "SQL",
            "display_name": "SQL",
            "language": "sql"
        },
        "language_info": {
            "name": "sql",
            "version": ""
        }
    },
    "nbformat_minor": 2,
    "nbformat": 4,
    "cells": [
        {
            "cell_type": "markdown",
            "source": [
                "# Analyze NY taxi data\n",
                "In this tutorial, we will perform exploratory data analysis by combining different Azure Open Datasets using serverless SQL and then visualizing the results in Azure Data Studio. In particular, you analyze the [New York City (NYC) Taxi dataset](https://azure.microsoft.com/services/open-datasets/catalog/nyc-taxi-limousine-commission-yellow-taxi-trip-records/ \"https://azure.microsoft.com/services/open-datasets/catalog/nyc-taxi-limousine-commission-yellow-taxi-trip-records/\").\n",
                "You can learn more about the meaning of the individual columns in the descriptions of the [NYC Taxi](https://azure.microsoft.com/services/open-datasets/catalog/nyc-taxi-limousine-commission-yellow-taxi-trip-records/ \"https://azure.microsoft.com/services/open-datasets/catalog/nyc-taxi-limousine-commission-yellow-taxi-trip-records/\"), [Public Holidays](https://azure.microsoft.com/services/open-datasets/catalog/public-holidays/ \"https://azure.microsoft.com/services/open-datasets/catalog/public-holidays/\"), and [Weather Data](https://azure.microsoft.com/services/open-datasets/catalog/noaa-integrated-surface-data/ \"https://azure.microsoft.com/services/open-datasets/catalog/noaa-integrated-surface-data/\") Azure open datasets.\n",
                "Let's first get familiar with the NYC Taxi data by running the following query:"
            ],
            "metadata": {
                "azdata_cell_guid": "e01663cc-427c-457f-84db-b16d0fca3a90"
            }
        },
        {
            "cell_type": "code",
            "source": [
                "SELECT TOP 10 * FROM\r\n",
                "    OPENROWSET(\r\n",
                "        BULK 'https://azureopendatastorage.blob.core.windows.net/nyctlc/yellow/puYear=*/puMonth=*/*.parquet',\r\n",
                "        FORMAT='PARQUET'\r\n",
                "    ) AS [nyc]"
            ],
            "metadata": {
                "azdata_cell_guid": "dbc4f12e-388c-49fa-9d85-0fbea3b19d1b"
            },
            "outputs": [],
            "execution_count": null
        },
        {
            "cell_type": "markdown",
            "source": [
                "Similarly, we can explore the Public Holidays dataset:"
            ],
            "metadata": {
                "azdata_cell_guid": "a373fa76-bfdf-4bb6-8098-73c9ef436eb8"
            }
        },
        {
            "cell_type": "code",
            "source": [
                "SELECT TOP 10 * FROM\r\n",
                "    OPENROWSET(\r\n",
                "        BULK 'https://azureopendatastorage.blob.core.windows.net/holidaydatacontainer/Processed/*.parquet',\r\n",
                "        FORMAT='PARQUET'\r\n",
                "    ) AS [holidays]"
            ],
            "metadata": {
                "azdata_cell_guid": "48b6ee55-09ec-47df-bea5-707dc2f42aa8"
            },
            "outputs": [],
            "execution_count": null
        },
        {
            "cell_type": "markdown",
            "source": [
                "Lastly, we can also explore the Weather Data dataset by using the following query:"
            ],
            "metadata": {
                "azdata_cell_guid": "c4145b77-8663-4e59-914b-721955a02635"
            }
        },
        {
            "cell_type": "code",
            "source": [
                "SELECT\r\n",
                "    TOP 10 *\r\n",
                "FROM  \r\n",
                "    OPENROWSET(\r\n",
                "        BULK 'https://azureopendatastorage.blob.core.windows.net/isdweatherdatacontainer/ISDWeather/year=*/month=*/*.parquet',\r\n",
                "        FORMAT='PARQUET'\r\n",
                "    ) AS [weather]"
            ],
            "metadata": {
                "azdata_cell_guid": "f3da158c-c168-45b0-8e38-7ee2d430420f"
            },
            "outputs": [],
            "execution_count": null
        },
        {
            "cell_type": "markdown",
            "source": [
                "## Time series, seasonality, and outlier analysis\n",
                "\n",
                "We can easily summarize the yearly number of taxi rides by using the following query:"
            ],
            "metadata": {
                "azdata_cell_guid": "745b2c81-01eb-4bf5-9cad-47a03dcff194"
            }
        },
        {
            "cell_type": "code",
            "source": [
                "SELECT\r\n",
                "    YEAR(tpepPickupDateTime) AS current_year,\r\n",
                "    COUNT(*) AS rides_per_year\r\n",
                "FROM\r\n",
                "    OPENROWSET(\r\n",
                "        BULK 'https://azureopendatastorage.blob.core.windows.net/nyctlc/yellow/puYear=*/puMonth=*/*.parquet',\r\n",
                "        FORMAT='PARQUET'\r\n",
                "    ) AS [nyc]\r\n",
                "WHERE nyc.filepath(1) >= '2009' AND nyc.filepath(1) <= '2019'\r\n",
                "GROUP BY YEAR(tpepPickupDateTime)\r\n",
                "ORDER BY 1 ASC"
            ],
            "metadata": {
                "azdata_cell_guid": "e7bacd03-45d4-4b0b-b1d0-9522e1a54436"
            },
            "outputs": [],
            "execution_count": null
        },
        {
            "cell_type": "markdown",
            "source": [
                "The data can be visualized in Azure Data Studio by switching from the Table to the Chart view. You can choose among different chart types, such as Area, Bar, Column, Line, Pie, and Scatter.   \n",
                "\n",
                "From this visualization, a trend of a decreasing number of rides over years can be clearly seen. Presumably, this decrease is due to the recent increased popularity of ride-sharing companies.\n",
                "\n",
                "Next, let's focus the analysis on a single year, for example, 2016. The following query returns the daily number of rides during that year:"
            ],
            "metadata": {
                "azdata_cell_guid": "4397f453-4b20-4083-ae0e-4966d789993f"
            }
        },
        {
            "cell_type": "code",
            "source": [
                "SELECT\r\n",
                "    CAST([tpepPickupDateTime] AS DATE) AS [current_day],\r\n",
                "    COUNT(*) as rides_per_day\r\n",
                "FROM\r\n",
                "    OPENROWSET(\r\n",
                "        BULK 'https://azureopendatastorage.blob.core.windows.net/nyctlc/yellow/puYear=*/puMonth=*/*.parquet',\r\n",
                "        FORMAT='PARQUET'\r\n",
                "    ) AS [nyc]\r\n",
                "WHERE nyc.filepath(1) = '2016'\r\n",
                "GROUP BY CAST([tpepPickupDateTime] AS DATE)\r\n",
                "ORDER BY 1 ASC"
            ],
            "metadata": {
                "azdata_cell_guid": "e01007a4-adda-460a-83e0-e45a789c80cb"
            },
            "outputs": [],
            "execution_count": null
        },
        {
            "cell_type": "markdown",
            "source": [
                "Again, we can easily visualize data by plotting the Column chart with the Category column set to `current_day` and the Legend (series) column set to `rides_per_day`.\n",
                "\n",
                "From the plot chart, you can see there's a weekly pattern, with Saturdays as the peak day. During summer months, there are fewer taxi rides because of vacations. Also, notice some significant drops in the number of taxi rides without a clear pattern of when and why they occur.\n",
                "\n",
                "Next, let's see if the drops correlate with public holidays by joining the NYC Taxi rides dataset with the Public Holidays dataset:"
            ],
            "metadata": {
                "azdata_cell_guid": "455f1a05-87bc-4a83-8856-7ac9adc76af0"
            }
        },
        {
            "cell_type": "code",
            "source": [
                "WITH\r\n",
                "taxi_rides AS\r\n",
                "(\r\n",
                "    SELECT\r\n",
                "        CAST([tpepPickupDateTime] AS DATE) AS [current_day],\r\n",
                "        COUNT(*) as rides_per_day\r\n",
                "    FROM  \r\n",
                "        OPENROWSET(\r\n",
                "            BULK 'https://azureopendatastorage.blob.core.windows.net/nyctlc/yellow/puYear=*/puMonth=*/*.parquet',\r\n",
                "            FORMAT='PARQUET'\r\n",
                "        ) AS [nyc]\r\n",
                "    WHERE nyc.filepath(1) = '2016'\r\n",
                "    GROUP BY CAST([tpepPickupDateTime] AS DATE)\r\n",
                "),\r\n",
                "public_holidays AS\r\n",
                "(\r\n",
                "    SELECT\r\n",
                "        500000 as holiday,\r\n",
                "        date\r\n",
                "    FROM\r\n",
                "        OPENROWSET(\r\n",
                "            BULK 'https://azureopendatastorage.blob.core.windows.net/holidaydatacontainer/Processed/*.parquet',\r\n",
                "            FORMAT='PARQUET'\r\n",
                "        ) AS [holidays]\r\n",
                "    WHERE countryorregion = 'United States' AND YEAR(date) = 2016\r\n",
                ")\r\n",
                "SELECT\r\n",
                "*\r\n",
                "FROM taxi_rides t\r\n",
                "LEFT OUTER JOIN public_holidays p on t.current_day = p.date\r\n",
                "ORDER BY current_day ASC"
            ],
            "metadata": {
                "azdata_cell_guid": "710cb813-a14d-4daa-8436-7a0086e4381f"
            },
            "outputs": [],
            "execution_count": null
        },
        {
            "cell_type": "markdown",
            "source": [
                "From the plot chart, you can see that during public holidays the number of taxi rides is lower. There's still one unexplained large drop on January 23. Let's check the weather in NYC on that day by querying the Weather Data dataset:"
            ],
            "metadata": {
                "azdata_cell_guid": "a2160c53-23d2-4243-94ad-7c3408c49080"
            }
        },
        {
            "cell_type": "code",
            "source": [
                "SELECT\r\n",
                "    AVG(windspeed) AS avg_windspeed,\r\n",
                "    MIN(windspeed) AS min_windspeed,\r\n",
                "    MAX(windspeed) AS max_windspeed,\r\n",
                "    AVG(temperature) AS avg_temperature,\r\n",
                "    MIN(temperature) AS min_temperature,\r\n",
                "    MAX(temperature) AS max_temperature,\r\n",
                "    AVG(sealvlpressure) AS avg_sealvlpressure,\r\n",
                "    MIN(sealvlpressure) AS min_sealvlpressure,\r\n",
                "    MAX(sealvlpressure) AS max_sealvlpressure,\r\n",
                "    AVG(precipdepth) AS avg_precipdepth,\r\n",
                "    MIN(precipdepth) AS min_precipdepth,\r\n",
                "    MAX(precipdepth) AS max_precipdepth,\r\n",
                "    AVG(snowdepth) AS avg_snowdepth,\r\n",
                "    MIN(snowdepth) AS min_snowdepth,\r\n",
                "    MAX(snowdepth) AS max_snowdepth\r\n",
                "FROM\r\n",
                "    OPENROWSET(\r\n",
                "        BULK 'https://azureopendatastorage.blob.core.windows.net/isdweatherdatacontainer/ISDWeather/year=*/month=*/*.parquet',\r\n",
                "        FORMAT='PARQUET'\r\n",
                "    ) AS [weather]\r\n",
                "WHERE countryorregion = 'US' AND CAST([datetime] AS DATE) = '2016-01-23' AND stationname = 'JOHN F KENNEDY INTERNATIONAL AIRPORT'"
            ],
            "metadata": {
                "azdata_cell_guid": "aa7087b1-fb8d-43cc-a580-afa1ff6d9741"
            },
            "outputs": [],
            "execution_count": null
        },
        {
            "cell_type": "markdown",
            "source": [
                "The results of the query indicate that the drop in the number of taxi rides occurred because:\n",
                "\n",
                "-   There was a blizzard on that day in NYC with heavy snow (~30 cm).\n",
                "-   It was cold (temperature was below zero degrees Celsius).\n",
                "-   It was windy (~10 m/s).\n",
                "\n",
                "This tutorial has shown how a data analyst can quickly perform exploratory data analysis, easily combine different datasets by using serverless Synapse SQL pool, and visualize the results by using Azure Data Studio."
            ],
            "metadata": {
                "azdata_cell_guid": "be7f6d54-0301-4fbd-be89-56472649e6f9"
            }
        }
    ]
}