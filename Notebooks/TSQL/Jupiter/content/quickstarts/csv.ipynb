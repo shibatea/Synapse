{
    "metadata": {
        "kernelspec": {
            "name": "SQL",
            "display_name": "SQL",
            "language": "sql"
        },
        "language_info": {
            "name": "sql",
            "version": ""
        }
    },
    "nbformat_minor": 2,
    "nbformat": 4,
    "cells": [
        {
            "cell_type": "markdown",
            "source": [
                "# Query CSV files\n",
                "\n",
                "Serverless Synapse SQL pool enables you to read CSV files from Azure storage (DataLake or blob storage).\n",
                "\n",
                "## Read csv file\n",
                "\n",
                "The easiest way to see to the content of your `CSV` file is to provide file URL to `OPENROWSET` function and specify format `CSV`. If the file is publicly available or if your Azure AD identity can access this file, you should be able to see the content of the file using the query like the one shown in the following example:"
            ],
            "metadata": {
                "azdata_cell_guid": "e01663cc-427c-457f-84db-b16d0fca3a90"
            }
        },
        {
            "cell_type": "code",
            "source": [
                "select top 10 *\r\n",
                "from openrowset(\r\n",
                "    bulk 'https://pandemicdatalake.blob.core.windows.net/public/curated/covid-19/ecdc_cases/latest/ecdc_cases.csv',\r\n",
                "    format = 'csv',\r\n",
                "    parser_version = '2.0',\r\n",
                "    firstrow = 2 ) as rows"
            ],
            "metadata": {
                "azdata_cell_guid": "dbc4f12e-388c-49fa-9d85-0fbea3b19d1b"
            },
            "outputs": [],
            "execution_count": null
        },
        {
            "cell_type": "markdown",
            "source": [
                "## Data source usage\n",
                "\n",
                "Previous example uses full path to the file. As an alternative, you can create an external data source with the location that points to the root folder of the storage:"
            ],
            "metadata": {
                "azdata_cell_guid": "a373fa76-bfdf-4bb6-8098-73c9ef436eb8"
            }
        },
        {
            "cell_type": "code",
            "source": [
                "create external data source covid\r\n",
                "with (\r\n",
                "     location = 'https://pandemicdatalake.blob.core.windows.net/public/curated/covid-19/ecdc_cases'\r\n",
                ");"
            ],
            "metadata": {
                "azdata_cell_guid": "48b6ee55-09ec-47df-bea5-707dc2f42aa8"
            },
            "outputs": [],
            "execution_count": null
        },
        {
            "cell_type": "markdown",
            "source": [
                "Once you create a data source, you can use that data source and the relative path to the file in `OPENROWSET` function:"
            ],
            "metadata": {
                "azdata_cell_guid": "c4145b77-8663-4e59-914b-721955a02635"
            }
        },
        {
            "cell_type": "code",
            "source": [
                "select\r\n",
                "    top 10 *\r\n",
                "from\r\n",
                "    openrowset(\r\n",
                "        bulk 'latest/ecdc_cases.csv',\r\n",
                "        data_source = 'covid',\r\n",
                "        format = 'csv',\r\n",
                "        parser_version ='2.0',\r\n",
                "        firstrow = 2\r\n",
                "    ) as rows"
            ],
            "metadata": {
                "azdata_cell_guid": "f3da158c-c168-45b0-8e38-7ee2d430420f"
            },
            "outputs": [],
            "execution_count": null
        },
        {
            "cell_type": "markdown",
            "source": [
                "## Explicitly specify schema \n",
                "\n",
                "`OPENROWSET` enables you to explicitly specify what columns you want to read from the file using `WITH` clause:"
            ],
            "metadata": {
                "azdata_cell_guid": "745b2c81-01eb-4bf5-9cad-47a03dcff194"
            }
        },
        {
            "cell_type": "code",
            "source": [
                "select\r\n",
                "    top 10 *\r\n",
                "from\r\n",
                "    openrowset(\r\n",
                "        bulk 'https://pandemicdatalake.blob.core.windows.net/public/curated/covid-19/ecdc_cases/latest/ecdc_cases.csv',\r\n",
                "        format = 'csv',\r\n",
                "        parser_version ='2.0',\r\n",
                "        firstrow = 2\r\n",
                "    ) with (\r\n",
                "        date_rep date 1,\r\n",
                "        cases int 5,\r\n",
                "        geo_id varchar(6) 8\r\n",
                "    ) as rows"
            ],
            "metadata": {
                "azdata_cell_guid": "e7bacd03-45d4-4b0b-b1d0-9522e1a54436"
            },
            "outputs": [],
            "execution_count": null
        },
        {
            "cell_type": "markdown",
            "source": [
                "The numbers after a data type in the `WITH` clause represent column index in the CSV file."
            ],
            "metadata": {
                "azdata_cell_guid": "4397f453-4b20-4083-ae0e-4966d789993f"
            }
        }
    ]
}