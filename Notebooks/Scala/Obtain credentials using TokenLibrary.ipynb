{
  "metadata": {
    "saveOutput": true,
    "language_info": {
      "name": "scala"
    }
  },
  "nbformat": 4,
  "nbformat_minor": 2,
  "cells": [
    {
      "cell_type": "code",
      "execution_count": null,
      "outputs": [],
      "metadata": {},
      "source": [
        "For latest documentation please run TokenLibrary.help() from Notebook\n"
      ],
      "attachments": {}
    },
    {
      "cell_type": "code",
      "execution_count": null,
      "outputs": [],
      "metadata": {},
      "source": [
        "// By default Synapse uses AAD passthrough for authentication\n",
        "// TokenLibrary is invoked under the hood for obtaining AAD token and using it for\n",
        "// authenticating against the resource\n",
        "\n",
        "val df = spark.read.parquet(\"abfss://..\")"
      ],
      "attachments": {}
    },
    {
      "cell_type": "code",
      "execution_count": null,
      "outputs": [],
      "metadata": {},
      "source": [
        "// While Gen2 is the default storage for Synapse, AAD passthrough support exists for Gen1 as well. PLEASE NOTE THAT WE DO NOT OFFICIALLY SUPPORT GEN1 IN SYNAPSE AND CUSTOMERS WHO USE IT ARE ON THEIR OWN.\n",
        "\n",
        "val df = spark.read.parquet(\"adl://\")"
      ],
      "attachments": {}
    },
    {
      "cell_type": "code",
      "execution_count": null,
      "outputs": [],
      "metadata": {},
      "source": [
        "// Linked services can be used for storing and retreiving credentials (e.g, account key)\n",
        "// Example connection string (for storage): \"DefaultEndpointsProtocol=https;AccountName=<accountname>;AccountKey=<accountkey>\"\n",
        "\n",
        "val connectionString: String = TokenLibrary.getConnectionString(\"<linkedServiceName>\")\n",
        "val accountKey: String = TokenLibrary.getConnectionStringAsMap(\"<linkedServiceName>\").get(\"AccountKey\")\n",
        ""
      ],
      "attachments": {}
    },
    {
      "cell_type": "code",
      "execution_count": null,
      "outputs": [],
      "metadata": {},
      "source": [
        "// TokenLibrary can be used for obtaining secrets from AKV\n",
        "\n",
        "val secret: String = TokenLibrary.getSecret(\"<akvName>\", \"<secret>\", \"<akvLinkedService>\") //uses workspace MSI\n",
        "val secret: String = TokenLibrary.getSecret(\"<akvName>\", \"<secret>\") // uses user credentials \n",
        ""
      ],
      "attachments": {}
    },
    {
      "cell_type": "code",
      "execution_count": null,
      "outputs": [],
      "metadata": {},
      "source": [
        "// Synapse has inbuilt integration of linked services with storage Gen2 via TokenLibrary\n",
        "// For storage Gen2, linkedServiceName can be supplied through config for SAS-key based authentication (in lieu of account-key based authentication) \n",
        "// Direct invokation of TokenLibrary is not required for obtaining creds and connection info\n",
        "\n",
        "spark.conf.set(\"spark.storage.synapse.linkedServiceName\", \"<linkedServiceName>\")\n",
        "spark.conf.set(\"fs.azure.account.auth.type\", \"SAS\")\n",
        "spark.conf.set(\"fs.azure.sas.token.provider.type\", \"com.microsoft.azure.synapse.tokenlibrary.LinkedServiceBasedSASProvider\")\n",
        "\n",
        "val df = spark.read.parquet(\"abfss://..\")"
      ],
      "attachments": {}
    },
    {
      "cell_type": "code",
      "execution_count": null,
      "outputs": [],
      "metadata": {},
      "source": [
        "// In order to pass a SAS token from configuration for Gen2: \n",
        "\n",
        "spark.conf.set(\"fs.azure.account.auth.type\", \"SAS\")\n",
        "spark.conf.set(\"fs.azure.sas.token.provider.type\", \"com.microsoft.azure.synapse.tokenlibrary.ConfBasedSASProvider\")\n",
        "spark.conf.set(\"spark.storage.synapse.sas\", \"<SAS Token>\")\n",
        "\n",
        "val df = spark.read.parquet(\"abfss://..\")"
      ],
      "attachments": {}
    },
    {
      "cell_type": "code",
      "execution_count": null,
      "outputs": [],
      "metadata": {},
      "source": [
        "// In order to fetch a SAS token from AKV for Gen2: \n",
        "\n",
        "spark.conf.set(\"fs.azure.account.auth.type\", \"SAS\")\n",
        "spark.conf.set(\"fs.azure.sas.token.provider.type\", \"com.microsoft.azure.synapse.tokenlibrary.AkvBasedSASProvider\")\n",
        "spark.conf.set(\"spark.storage.synapse.akv\", \"<akvName>\")\n",
        "spark.conf.set(\"spark.storage.akv.secret\", \"<secretName>\")\n",
        "\n",
        "val df = spark.read.parquet(\"abfss://..\")"
      ],
      "attachments": {}
    },
    {
      "cell_type": "code",
      "execution_count": null,
      "outputs": [],
      "metadata": {},
      "source": [
        ""
      ],
      "attachments": {}
    }
  ]
}
