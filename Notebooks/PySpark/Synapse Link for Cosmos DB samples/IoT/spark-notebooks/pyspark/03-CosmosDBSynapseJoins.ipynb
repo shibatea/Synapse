{
  "metadata": {
    "saveOutput": false,
    "language_info": {
      "name": "python"
    }
  },
  "nbformat": 4,
  "nbformat_minor": 2,
  "cells": [
    {
      "cell_type": "markdown",
      "metadata": {},
      "source": [
        "# Azure Synapse Linkを使用したAzure Cosmos DBコレクション全体の結合と集計\n",
        "このノートで、あなたは、\n",
        "\n",
        "1. [Azure Cosmos DB 分析ストア](https://docs.microsoft.com/ja-jp/azure/cosmos-db/analytical-store-introduction) コレクションを指す Spark テーブルを作成します\n",
        "2. Perform Joins, filters and aggregations across collections using Spark-SQL\n",
        "3. Visualize the data using plotly and displayHTML()\n",
        "\n",
        ">**ご存知ですか？** [Azure Cosmos DB 用 Azure Synapse Link](https://docs.microsoft.com/ja-jp/azure/cosmos-db/synapse-link) は、Azure Cosmos DB の運用データに対してほぼリアルタイムの分析を実行できるハイブリッドトランザクション分析処理 (HTAP) 機能です。\n",
        "&nbsp;\n",
        "\n",
        ">**ご存知ですか？** [Azure Cosmos DB 分析ストア](https://docs.microsoft.com/ja-jp/azure/cosmos-db/analytical-store-introduction)は、トランザクションワークロードに影響を与えることなく、Azure Cosmos DB の運用データに対して大規模な分析を可能にする完全に分離された列ストアです。\n",
        "&nbsp;\n",
        "\n",
        ">**ご存知ですか？** Azure Cosmos DB コレクションの上に作成された Spark テーブルはメタデータテーブルであり、対応するコレクションにクエリを渡します。\n"
      ],
      "attachments": {}
    },
    {
      "cell_type": "markdown",
      "metadata": {},
      "source": [
        "### 1. Azure Synapse Link を使用して、Azure Cosmos DB 分析ストアコレクションを指す Spark テーブルを作成する\n",
        ">**ご存知ですか？** 「cosmos.oltp」は、Cosmos DBトランザクションストアへの接続を可能にする Spark フォーマットです。\n",
        "\n",
        ">**ご存知ですか？** Synapse の Cosmos DB Linked Service は、Azure Cosmos DB データベースの接続構成を抽象化します。\n",
        "\n",
        ">リンクされたサービスをセットアップして Azure Cosmos DB データベースを Azure Synapse ワークスペースに接続する方法については、[こちらをクリック](https://docs.microsoft.com/ja-jp/azure/synapse-analytics/synapse-link/how-to-connect-synapse-link-cosmos-db#connect-an-azure-cosmos-db-database-to-a-synapse-workspace)してください。"
      ],
      "attachments": {}
    },
    {
      "cell_type": "code",
      "execution_count": 3,
      "outputs": [],
      "metadata": {
        "diagram": {
          "activateDiagramType": 1,
          "chartConfig": {
            "category": "bar",
            "keys": [],
            "values": [],
            "yLabel": "",
            "xLabel": "",
            "aggregation": "SUM",
            "aggByBackend": false
          },
          "aggData": {},
          "isSummary": false,
          "previewData": {
            "filter": null
          },
          "isSql": true
        }
      },
      "source": [
        "%%sql\n",
        "create database CosmosDBIoTDemo"
      ],
      "attachments": {}
    },
    {
      "cell_type": "code",
      "execution_count": 4,
      "outputs": [],
      "metadata": {
        "diagram": {
          "activateDiagramType": 1,
          "chartConfig": {
            "category": "bar",
            "keys": [],
            "values": [],
            "yLabel": "",
            "xLabel": "",
            "aggregation": "SUM",
            "aggByBackend": false
          },
          "aggData": {},
          "isSummary": false,
          "previewData": {
            "filter": null
          },
          "isSql": true
        }
      },
      "source": [
        "%%sql\n",
        "\n",
        "create table if not exists CosmosDBIoTDemo.IoTSignals\n",
        "using cosmos.olap\n",
        "options(spark.synapse.linkedService 'CosmosDBIoTDemo',\n",
        "        spark.cosmos.container 'IoTSignals')\n",
        ""
      ],
      "attachments": {}
    },
    {
      "cell_type": "code",
      "execution_count": 5,
      "outputs": [],
      "metadata": {
        "diagram": {
          "activateDiagramType": 1,
          "chartConfig": {
            "category": "bar",
            "keys": [],
            "values": [],
            "yLabel": "",
            "xLabel": "",
            "aggregation": "SUM",
            "aggByBackend": false
          },
          "aggData": {},
          "isSummary": false,
          "previewData": {
            "filter": null
          },
          "isSql": true
        }
      },
      "source": [
        "%%sql\n",
        "\n",
        "create table if not exists CosmosDBIoTDemo.IoTDeviceInfo\n",
        "using cosmos.olap\n",
        "options(spark.synapse.linkedService 'CosmosDBIoTDemo',\n",
        "        spark.cosmos.container 'IoTDeviceInfo')\n",
        ""
      ],
      "attachments": {}
    },
    {
      "cell_type": "markdown",
      "metadata": {},
      "source": [
        "### 2. コレクション全体で結合を実行し、Spark SQL を使用してフィルターと集計を適用する\n",
        "\n",
        ">**ご存知ですか？** Cosmos DB 分析ストアに対するクエリは、運用データにプロビジョニングされたスループットを消費することなく、トランザクションワークロードトラフィックとは関係なく提供されます。\n",
        "\n",
        ">**ご存知ですか？** Cosmos DB 分析ストアは、列型ストレージを使用し、大規模な分析ワークロード用に最適化されています。\n",
        "\n",
        ">**ご存知ですか？** Cosmos DB 分析ストアは、データストレージおよび分析の読み取り/書き込み操作と実行されたクエリに基づいており、スループットをプロビジョニングする必要がない、費用対効果の高い消費ベースの料金モデルに従います。"
      ],
      "attachments": {}
    },
    {
      "cell_type": "code",
      "execution_count": 6,
      "outputs": [],
      "metadata": {},
      "source": [
        "df_RPM_details = spark.sql(\"select a.deviceid \\\n",
        "                                 , b.devicetype \\\n",
        "                                 , cast(b.location as string) as location\\\n",
        "                                 , cast(b.latitude as float) as latitude\\\n",
        "                                 , cast(b.longitude as float) as  longitude\\\n",
        "                                 , a.measuretype \\\n",
        "                                 , a.unitSymbol \\\n",
        "                                 , cast(sum(measureValue) as float) as measureValueSum \\\n",
        "                                 , count(*) as count \\\n",
        "                            from CosmosDBIoTDemo.IoTSignals a \\\n",
        "                            left join CosmosDBIoTDemo.IoTDeviceInfo b \\\n",
        "                            on a.deviceid = b.deviceid \\\n",
        "                            where a.unitSymbol = 'RPM' \\\n",
        "                            group by a.deviceid, b.devicetype, b.location, b.latitude, b.longitude, a.measuretype, a.unitSymbol\")"
      ],
      "attachments": {}
    },
    {
      "cell_type": "markdown",
      "metadata": {},
      "source": [
        "### display() 関数を使用して結果セットを表示またはグラフ化する\n"
      ],
      "attachments": {}
    },
    {
      "cell_type": "code",
      "execution_count": 7,
      "outputs": [],
      "metadata": {
        "outputCollapsed": true,
        "diagram": {
          "activateDiagramType": 2,
          "chartConfig": {
            "category": "bar",
            "keys": [
              "deviceid"
            ],
            "values": [
              "deviceid",
              "measureValueSum"
            ],
            "yLabel": "deviceid,measureValueSum",
            "xLabel": "deviceid",
            "aggregation": "SUM",
            "aggByBackend": false,
            "isValid": true,
            "inValidMsg": null
          },
          "aggData": {
            "deviceid": {
              "dev-0": 0,
              "dev-1": 0,
              "dev-2": 0,
              "dev-3": 0,
              "dev-4": 0,
              "dev-5": 0,
              "dev-6": 0,
              "dev-7": 0,
              "dev-8": 0,
              "dev-9": 0
            },
            "measureValueSum": {
              "dev-0": 70966448,
              "dev-1": 86676260,
              "dev-2": 93391084,
              "dev-3": 79544540,
              "dev-4": 79326148,
              "dev-5": 83887648,
              "dev-6": 89658328,
              "dev-7": 79591080,
              "dev-8": 83887216,
              "dev-9": 83418944
            }
          },
          "isSummary": false,
          "previewData": {
            "filter": null
          },
          "isSql": false
        }
      },
      "source": [
        "display(df_RPM_details)"
      ],
      "attachments": {}
    },
    {
      "cell_type": "markdown",
      "metadata": {},
      "source": [
        "### 3. plotly と displayHTML() を使用して可視化する\n",
        "以下は、さまざまな場所にわたる IoT 信号のヒートマップを示しています。"
      ],
      "attachments": {}
    },
    {
      "cell_type": "code",
      "execution_count": 8,
      "outputs": [],
      "metadata": {},
      "source": [
        "from plotly.offline import plot\n",
        "import plotly.express as px\n",
        "\n",
        "df_RPM_details_pd = df_RPM_details.toPandas()\n",
        "fig = px.scatter_mapbox(df_RPM_details_pd, \n",
        "                        lat='latitude', \n",
        "                        lon='longitude', \n",
        "                        size = 'measureValueSum',\n",
        "                        color = 'measureValueSum',\n",
        "                        hover_name = 'location',\n",
        "                        hover_data = ['measureValueSum','location'],\n",
        "                        size_max = 30,\n",
        "                        color_continuous_scale = px.colors.carto.Temps,\n",
        "                        zoom=3,\n",
        "                        height=600,\n",
        "                        width =900)\n",
        "\n",
        "fig.update_layout(mapbox_style='open-street-map')\n",
        "fig.update_layout(margin={\"r\":0,\"t\":0,\"l\":0,\"b\":0})\n",
        "\n",
        "p = plot(fig,output_type='div')\n",
        "displayHTML(p)       "
      ],
      "attachments": {}
    },
    {
      "cell_type": "markdown",
      "metadata": {},
      "source": [
        "<img src=\"https://revin.blob.core.windows.net/synapselinknotebooks/RPMHeatmap.PNG\" width=\"1400\" style=\"float: center;\"/>\n",
        ""
      ],
      "attachments": {}
    }
  ]
}