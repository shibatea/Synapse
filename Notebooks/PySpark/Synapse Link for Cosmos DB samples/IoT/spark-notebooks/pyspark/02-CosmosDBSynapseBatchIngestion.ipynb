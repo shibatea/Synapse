{
  "metadata": {
    "saveOutput": false,
    "language_info": {
      "name": "python"
    }
  },
  "nbformat": 4,
  "nbformat_minor": 2,
  "cells": [
    {
      "cell_type": "markdown",
      "metadata": {},
      "source": [
        "# Azure Cosmos DB コレクションへのバッチ取り込み\n",
        "\n",
        "このノートで、あなたは、\n",
        "\n",
        "1. IoTDeviceInfo データセットを ADLS Gen2 からデータフレームに読み込みます\n",
        "2. Azure Cosmos DB コレクションにデータフレームを書き込みます\n",
        "\n",
        ">**ご存知ですか？** [Azure Cosmos DB 用 Azure Synapse Link](https://docs.microsoft.com/ja-jp/azure/cosmos-db/synapse-link) は、Azure Cosmos DB の運用データに対してほぼリアルタイムの分析を実行できるハイブリッドトランザクション分析処理 (HTAP) 機能です。\n",
        "&nbsp;\n",
        "\n",
        ">**ご存知ですか？** [Azure Cosmos DB 分析ストア](https://docs.microsoft.com/ja-jp/azure/cosmos-db/analytical-store-introduction)は、トランザクションワークロードに影響を与えることなく、Azure Cosmos DB の運用データに対して大規模な分析を可能にする完全に分離された列ストアです。\n",
        "&nbsp;\n"
      ],
      "attachments": {}
    },
    {
      "cell_type": "markdown",
      "metadata": {},
      "source": [
        "### 1. IoTDeviceInfo データセットを ADLS Gen2 からデータフレームに読み込む\n",
        ">**ご存知ですか？** Synapse ワークスペースは ADLS Gen2 ストレージアカウントにアタッチされており、デフォルトのストレージアカウントに配置されたファイルには、以下のように相対パスを使用してアクセスできます。\n",
        "&nbsp;\n",
        "\n"
      ],
      "attachments": {}
    },
    {
      "cell_type": "code",
      "execution_count": 3,
      "outputs": [],
      "metadata": {},
      "source": [
        "dfDeviceInfo = (spark\n",
        "                .read\n",
        "                .csv(\"/IoTData/IoTDeviceInfo.csv\", header=True, inferSchema='true')\n",
        "              )"
      ],
      "attachments": {}
    },
    {
      "cell_type": "markdown",
      "metadata": {},
      "source": [
        "### 2. Azure Cosmos DB コレクションにデータフレームを書き込む\n",
        ">**ご存知ですか？** 「cosmos.oltp」は、Cosmos DB トランザクションストアへの接続を可能にする Spark フォーマットです。\n",
        "\n",
        ">**ご存知ですか？** Cosmos DB コレクションへの取り込みは、分析ストアが有効になっているかどうかに関係なく、常にトランザクションストアを通じて実行されます。"
      ],
      "attachments": {}
    },
    {
      "cell_type": "code",
      "execution_count": 4,
      "outputs": [],
      "metadata": {},
      "source": [
        "dfDeviceInfo.write\\\n",
        "            .format(\"cosmos.oltp\")\\\n",
        "            .option(\"spark.synapse.linkedService\", \"CosmosDBIoTDemo\")\\\n",
        "            .option(\"spark.cosmos.container\", \"IoTDeviceInfo\")\\\n",
        "            .option(\"spark.cosmos.write.upsertEnabled\", \"true\")\\\n",
        "            .mode('append')\\\n",
        "            .save()\n",
        ""
      ],
      "attachments": {}
    }
  ]
}